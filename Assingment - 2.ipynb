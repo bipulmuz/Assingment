{
 "cells": [
  {
   "cell_type": "markdown",
   "id": "e0c41daa-f038-4077-898f-e4e64bd3fa0e",
   "metadata": {},
   "source": [
    "# Q1. Explain with an example each when to use a for loop and a while loop."
   ]
  },
  {
   "cell_type": "code",
   "execution_count": 23,
   "id": "df3296a9-1c4e-4a7b-b3cf-ed11fba4c33e",
   "metadata": {},
   "outputs": [
    {
     "name": "stdout",
     "output_type": "stream",
     "text": [
      "1\n",
      "2\n",
      "3\n"
     ]
    }
   ],
   "source": [
    " # The for loop is used when the number of iterations is already known.\n",
    "# for example \n",
    "n = [1, 2, 3]  \n",
    "for i in n:  \n",
    "    print(i)"
   ]
  },
  {
   "cell_type": "code",
   "execution_count": 24,
   "id": "36b02a21-fefa-47df-80fd-3b16ad6cb76c",
   "metadata": {},
   "outputs": [
    {
     "name": "stdout",
     "output_type": "stream",
     "text": [
      "1\n",
      "2\n",
      "3\n",
      "4\n",
      "5\n"
     ]
    }
   ],
   "source": [
    "# A \"while\" loop is used when the number of iterations is unknown. \n",
    "# for example \n",
    "i = 1  \n",
    "while i < 6:  \n",
    "    print(i)\n",
    "    i += 1  "
   ]
  },
  {
   "cell_type": "markdown",
   "id": "3221ae5d-6873-44fb-994b-b4b6c8bef4c5",
   "metadata": {
    "tags": []
   },
   "source": [
    "# Q.2Write a python program to print the sum and product of the first 10 natural numbers using for and while loop."
   ]
  },
  {
   "cell_type": "code",
   "execution_count": 1,
   "id": "ce2a5f1f-43ed-4def-bba3-d324d8489414",
   "metadata": {},
   "outputs": [
    {
     "name": "stdout",
     "output_type": "stream",
     "text": [
      "55\n",
      "3628800\n"
     ]
    }
   ],
   "source": [
    "# while loop\n",
    "n = 1\n",
    "sum =0\n",
    "product = 1\n",
    "while n <=10:\n",
    "    sum = sum +n\n",
    "    product = product *n\n",
    "    n = n+1\n",
    "print(sum)\n",
    "print(product)"
   ]
  },
  {
   "cell_type": "code",
   "execution_count": 2,
   "id": "020f5ea3-b80b-4a88-a8c6-31aebac3b281",
   "metadata": {},
   "outputs": [
    {
     "name": "stdout",
     "output_type": "stream",
     "text": [
      "55\n",
      "3628800\n"
     ]
    }
   ],
   "source": [
    "# for loop \n",
    "n = 1\n",
    "sum = 0\n",
    "product =1\n",
    "for i in range(10):\n",
    "    sum = sum +n\n",
    "    product = product *n\n",
    "    n = n+1\n",
    "print(sum)\n",
    "print(product)"
   ]
  },
  {
   "cell_type": "markdown",
   "id": "2d1a1853-8e6b-4101-ad5a-db58c1743c71",
   "metadata": {},
   "source": [
    "# Q.3 Create a python program to compute the electricity bill for a household.\n",
    "The per-unit charges in rupees are as follows: For the first 100 units, the user will be charged Rs. 4.5 perunit, for the next 100 units, the user will be charged Rs. 6 per unit, and for the next 100 units, the user willbe charged Rs. 10 per unit, After 300 units and above the user will be charged Rs. 20 per unit.\n",
    "\n",
    "You are required to take the units of electricity consumed in a month from the user as input.\n",
    "Your program must pass this test case: when the unit of electricity consumed by the user in a month is\n",
    "310, the total electricity bill should be 2250.\n"
   ]
  },
  {
   "cell_type": "code",
   "execution_count": 3,
   "id": "d256a43a-eb34-4ac3-bcf6-7d23d8bf8b94",
   "metadata": {},
   "outputs": [
    {
     "name": "stdin",
     "output_type": "stream",
     "text": [
      "enter the unit 310\n"
     ]
    },
    {
     "name": "stdout",
     "output_type": "stream",
     "text": [
      "2250\n"
     ]
    }
   ],
   "source": [
    "unit = int(input(\"enter the unit\"))\n",
    "if unit<=100:\n",
    "    charge = unit*4.5\n",
    "elif unit> 100 and unit<=200:\n",
    "    charge = (unit-100)*6+450\n",
    "elif unit >200 and unit <=300:\n",
    "    charge = (unit-200)*10+1050\n",
    "elif unit>300:\n",
    "    charge = (unit-300)*20+2050\n",
    "    print(charge)"
   ]
  },
  {
   "cell_type": "markdown",
   "id": "3a09af66-c70c-4cf8-ac95-6dfa5a76645e",
   "metadata": {},
   "source": [
    "# Q4. Create a list of numbers from 1 to 100. Use for loop and while loop to calculate the cube of eachnumber and if the cube of that number is divisible by 4 or 5 then append that number in a list and print that list."
   ]
  },
  {
   "cell_type": "code",
   "execution_count": 25,
   "id": "ba754574-5182-4d1a-80f3-4c5b6eeb03ac",
   "metadata": {},
   "outputs": [
    {
     "name": "stdout",
     "output_type": "stream",
     "text": [
      "8\n",
      "64\n",
      "125\n",
      "216\n",
      "512\n",
      "1000\n",
      "1728\n",
      "2744\n",
      "3375\n",
      "4096\n",
      "5832\n",
      "8000\n",
      "10648\n",
      "13824\n",
      "15625\n",
      "17576\n",
      "21952\n",
      "27000\n",
      "32768\n",
      "39304\n",
      "42875\n",
      "46656\n",
      "54872\n",
      "64000\n",
      "74088\n",
      "85184\n",
      "91125\n",
      "97336\n",
      "110592\n",
      "125000\n",
      "140608\n",
      "157464\n",
      "166375\n",
      "175616\n",
      "195112\n",
      "216000\n",
      "238328\n",
      "262144\n",
      "274625\n",
      "287496\n",
      "314432\n",
      "343000\n",
      "373248\n",
      "405224\n",
      "421875\n",
      "438976\n",
      "474552\n",
      "512000\n",
      "551368\n",
      "592704\n",
      "614125\n",
      "636056\n",
      "681472\n",
      "729000\n",
      "778688\n",
      "830584\n",
      "857375\n",
      "884736\n",
      "941192\n",
      "1000000\n",
      "[1, 8, 27, 64, 125, 216, 343, 512, 729, 1000, 1331, 1728, 2197, 2744, 3375, 4096, 4913, 5832, 6859, 8000, 9261, 10648, 12167, 13824, 15625, 17576, 19683, 21952, 24389, 27000, 29791, 32768, 35937, 39304, 42875, 46656, 50653, 54872, 59319, 64000, 68921, 74088, 79507, 85184, 91125, 97336, 103823, 110592, 117649, 125000, 132651, 140608, 148877, 157464, 166375, 175616, 185193, 195112, 205379, 216000, 226981, 238328, 250047, 262144, 274625, 287496, 300763, 314432, 328509, 343000, 357911, 373248, 389017, 405224, 421875, 438976, 456533, 474552, 493039, 512000, 531441, 551368, 571787, 592704, 614125, 636056, 658503, 681472, 704969, 729000, 753571, 778688, 804357, 830584, 857375, 884736, 912673, 941192, 970299, 1000000]\n"
     ]
    }
   ],
   "source": [
    "list = [ ]\n",
    "a = 1 \n",
    "while a <=100:\n",
    "    cube = a*a*a\n",
    "    a = a+ 1\n",
    "    if cube%4 ==0 : \n",
    "        print(cube)\n",
    "    elif cube%5==0:\n",
    "        print(cube)\n",
    "    list.append(cube)\n",
    "print(list)\n",
    "    "
   ]
  },
  {
   "cell_type": "code",
   "execution_count": 8,
   "id": "5fe44441-2739-4363-b9c2-4fb6ded03425",
   "metadata": {},
   "outputs": [
    {
     "name": "stdout",
     "output_type": "stream",
     "text": [
      "8\n",
      "64\n",
      "125\n",
      "216\n",
      "512\n",
      "1000\n",
      "1728\n",
      "2744\n",
      "3375\n",
      "4096\n",
      "5832\n",
      "8000\n",
      "10648\n",
      "13824\n",
      "15625\n",
      "17576\n",
      "21952\n",
      "27000\n",
      "32768\n",
      "39304\n",
      "42875\n",
      "46656\n",
      "54872\n",
      "64000\n",
      "74088\n",
      "85184\n",
      "91125\n",
      "97336\n",
      "110592\n",
      "125000\n",
      "140608\n",
      "157464\n",
      "166375\n",
      "175616\n",
      "195112\n",
      "216000\n",
      "238328\n",
      "262144\n",
      "274625\n",
      "287496\n",
      "314432\n",
      "343000\n",
      "373248\n",
      "405224\n",
      "421875\n",
      "438976\n",
      "474552\n",
      "512000\n",
      "551368\n",
      "592704\n",
      "614125\n",
      "636056\n",
      "681472\n",
      "729000\n",
      "778688\n",
      "830584\n",
      "857375\n",
      "884736\n",
      "941192\n",
      "1000000\n",
      "[1, 8, 27, 64, 125, 216, 343, 512, 729, 1000, 1331, 1728, 2197, 2744, 3375, 4096, 4913, 5832, 6859, 8000, 9261, 10648, 12167, 13824, 15625, 17576, 19683, 21952, 24389, 27000, 29791, 32768, 35937, 39304, 42875, 46656, 50653, 54872, 59319, 64000, 68921, 74088, 79507, 85184, 91125, 97336, 103823, 110592, 117649, 125000, 132651, 140608, 148877, 157464, 166375, 175616, 185193, 195112, 205379, 216000, 226981, 238328, 250047, 262144, 274625, 287496, 300763, 314432, 328509, 343000, 357911, 373248, 389017, 405224, 421875, 438976, 456533, 474552, 493039, 512000, 531441, 551368, 571787, 592704, 614125, 636056, 658503, 681472, 704969, 729000, 753571, 778688, 804357, 830584, 857375, 884736, 912673, 941192, 970299, 1000000]\n"
     ]
    }
   ],
   "source": [
    "# for \n",
    "list = []\n",
    "a = 1\n",
    "for i in range(100):\n",
    "    cube = a*a*a\n",
    "    a = a+ 1\n",
    "    if cube%4 ==0 : \n",
    "        print(cube)\n",
    "    elif cube%5==0:\n",
    "        print(cube)\n",
    "    list.append(cube)\n",
    "print(list)"
   ]
  },
  {
   "cell_type": "markdown",
   "id": "efb3fc78-efba-4e87-9edc-3d3d28d002cc",
   "metadata": {},
   "source": [
    "# Q5. Write a program to filter count vowels in the below-given string.\n",
    "string = \"I want to become a data scientist\""
   ]
  },
  {
   "cell_type": "code",
   "execution_count": 22,
   "id": "5a82142b-e8ac-4aed-9253-30dc928624b4",
   "metadata": {},
   "outputs": [
    {
     "name": "stdout",
     "output_type": "stream",
     "text": [
      "11\n"
     ]
    }
   ],
   "source": [
    "string = \"I want to become a data scientist\"\n",
    "vowels = \"a\",\"e\",\"i\",\"o\",\"u\"\n",
    "count = 0\n",
    "for i in range (len(string)):\n",
    "    if string[i] in vowels:\n",
    "        count = count + 1\n",
    "print(count)\n",
    "\n"
   ]
  },
  {
   "cell_type": "code",
   "execution_count": null,
   "id": "e2d5f51b-6051-445d-a1c3-4b884950ebb4",
   "metadata": {},
   "outputs": [],
   "source": []
  },
  {
   "cell_type": "code",
   "execution_count": null,
   "id": "645524ab-4c1a-42c6-a3e2-354a37fdc579",
   "metadata": {},
   "outputs": [],
   "source": []
  }
 ],
 "metadata": {
  "kernelspec": {
   "display_name": "Python 3 (ipykernel)",
   "language": "python",
   "name": "python3"
  },
  "language_info": {
   "codemirror_mode": {
    "name": "ipython",
    "version": 3
   },
   "file_extension": ".py",
   "mimetype": "text/x-python",
   "name": "python",
   "nbconvert_exporter": "python",
   "pygments_lexer": "ipython3",
   "version": "3.10.8"
  }
 },
 "nbformat": 4,
 "nbformat_minor": 5
}
